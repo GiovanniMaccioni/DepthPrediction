{
 "cells": [
  {
   "cell_type": "code",
   "execution_count": 1,
   "metadata": {},
   "outputs": [],
   "source": [
    "import data as D\n",
    "import train as T\n",
    "import models as M\n",
    "\n",
    "import torch"
   ]
  },
  {
   "cell_type": "code",
   "execution_count": 2,
   "metadata": {},
   "outputs": [
    {
     "name": "stderr",
     "output_type": "stream",
     "text": [
      "Loading train set run 0: 100%|██████████| 900/900 [00:00<00:00, 85901.91it/s]\n",
      "Loading val set run 0:   0%|          | 0/300 [00:00<?, ?it/s]"
     ]
    },
    {
     "name": "stderr",
     "output_type": "stream",
     "text": [
      "Loading val set run 0: 100%|██████████| 300/300 [00:00<00:00, 105199.50it/s]\n",
      "Loading train set run 0: 100%|██████████| 900/900 [00:00<00:00, 125327.81it/s]\n",
      "Loading val set run 0: 100%|██████████| 300/300 [00:00<00:00, 119586.69it/s]\n"
     ]
    }
   ],
   "source": [
    "#Hyperparameters\n",
    "device = torch.device(\"cuda\") if torch.cuda.is_available() else torch.device(\"cpu\")\n",
    "\n",
    "\n",
    "#x = torch.randn(1, 5*1, 424, 512)#[batch_size, sequence_len*channels, height, width]\n",
    "\n",
    "trainset =  D.BaxterJointsSynthDataset(\"./data/dataset\", [0], \"train\", demo = True, img_size=(512, 424), sequence_length=1)\n",
    "trainset.train()\n",
    "trainloader = torch.utils.data.DataLoader(trainset, batch_size=16,\n",
    "                                        shuffle=True, num_workers=16,\n",
    "                                        worker_init_fn=D.init_worker, drop_last=True)\n",
    "\n",
    "\n",
    "valset =  D.BaxterJointsSynthDataset(\"./data/dataset\", [0], \"train\", demo = True, img_size=(512, 424), sequence_length=1)\n",
    "valset.eval()\n",
    "valloader =  torch.utils.data.DataLoader(valset, batch_size=16,\n",
    "                                    shuffle=False, num_workers=16,\n",
    "                                    worker_init_fn=D.init_worker, drop_last=True)"
   ]
  },
  {
   "cell_type": "code",
   "execution_count": 14,
   "metadata": {},
   "outputs": [],
   "source": [
    "len_data = len(trainloader)*(trainloader.batch_size)"
   ]
  },
  {
   "cell_type": "code",
   "execution_count": 7,
   "metadata": {},
   "outputs": [
    {
     "data": {
      "text/plain": [
       "896"
      ]
     },
     "execution_count": 7,
     "metadata": {},
     "output_type": "execute_result"
    }
   ],
   "source": [
    "len_data"
   ]
  },
  {
   "cell_type": "code",
   "execution_count": 3,
   "metadata": {},
   "outputs": [
    {
     "name": "stderr",
     "output_type": "stream",
     "text": [
      "Evaluating: 100%|██████████| 18/18 [00:05<00:00,  3.46it/s]\n"
     ]
    },
    {
     "data": {
      "text/plain": [
       "0.054912781756785184"
      ]
     },
     "execution_count": 3,
     "metadata": {},
     "output_type": "execute_result"
    }
   ],
   "source": [
    "#TOCHECK I don't know if I have to do the XYZ transformation as said in the paper\n",
    "encoder = M.Encoder()\n",
    "decoder = M.Decoder()\n",
    "model = M.Autoencoder_conv(encoder, decoder).to(device)\n",
    "\n",
    "#I will test pdepth estimation first. To change the test for now, change the function call in the train function in train.py\n",
    "\n",
    "criterion = torch.nn.L1Loss()\n",
    "optimizer = torch.optim.Adam(model.parameters(), 3*1e-3)\n",
    "\n",
    "T.evaluate_batch(model, valloader, criterion, device)"
   ]
  }
 ],
 "metadata": {
  "kernelspec": {
   "display_name": "cvision",
   "language": "python",
   "name": "python3"
  },
  "language_info": {
   "codemirror_mode": {
    "name": "ipython",
    "version": 3
   },
   "file_extension": ".py",
   "mimetype": "text/x-python",
   "name": "python",
   "nbconvert_exporter": "python",
   "pygments_lexer": "ipython3",
   "version": "3.10.13"
  }
 },
 "nbformat": 4,
 "nbformat_minor": 2
}
